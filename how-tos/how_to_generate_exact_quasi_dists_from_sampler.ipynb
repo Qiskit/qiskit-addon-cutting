{
 "cells": [
  {
   "cell_type": "markdown",
   "id": "f9e40036",
   "metadata": {},
   "source": [
    "## How to generate exact quasiprobability distributions from Sampler\n",
    "\n",
    "This how-to guide is intended to show users how they can generate statevector-based quasiprobability distributions through the `qiskit.primitives.BaseSampler` interface."
   ]
  },
  {
   "cell_type": "code",
   "execution_count": 1,
   "id": "072055cb",
   "metadata": {
    "execution": {
     "iopub.execute_input": "2024-11-04T17:14:55.707949Z",
     "iopub.status.busy": "2024-11-04T17:14:55.707718Z",
     "iopub.status.idle": "2024-11-04T17:14:56.241217Z",
     "shell.execute_reply": "2024-11-04T17:14:56.240272Z"
    }
   },
   "outputs": [],
   "source": [
    "from qiskit import QuantumCircuit\n",
    "from qiskit.quantum_info import SparsePauliOp\n",
    "\n",
    "from qiskit_addon_cutting import (\n",
    "    partition_problem,\n",
    "    generate_cutting_experiments,\n",
    ")"
   ]
  },
  {
   "cell_type": "markdown",
   "id": "940334fd",
   "metadata": {},
   "source": [
    "Prepare inputs to `generate_cutting_experiments`"
   ]
  },
  {
   "cell_type": "code",
   "execution_count": 2,
   "id": "dc4af922",
   "metadata": {
    "execution": {
     "iopub.execute_input": "2024-11-04T17:14:56.244659Z",
     "iopub.status.busy": "2024-11-04T17:14:56.244221Z",
     "iopub.status.idle": "2024-11-04T17:14:56.259972Z",
     "shell.execute_reply": "2024-11-04T17:14:56.258990Z"
    }
   },
   "outputs": [],
   "source": [
    "circuit = QuantumCircuit(2)\n",
    "circuit.h(0)\n",
    "circuit.cx(0, 1)\n",
    "observable = SparsePauliOp([\"ZZ\"])\n",
    "partitioned_problem = partition_problem(\n",
    "    circuit=circuit, partition_labels=\"AB\", observables=observable.paulis\n",
    ")\n",
    "subcircuits = partitioned_problem.subcircuits\n",
    "subobservables = partitioned_problem.subobservables"
   ]
  },
  {
   "cell_type": "markdown",
   "id": "d6361a9d",
   "metadata": {},
   "source": [
    "Call `generate_cutting_experiments`"
   ]
  },
  {
   "cell_type": "code",
   "execution_count": 3,
   "id": "d095701f",
   "metadata": {
    "execution": {
     "iopub.execute_input": "2024-11-04T17:14:56.264355Z",
     "iopub.status.busy": "2024-11-04T17:14:56.263135Z",
     "iopub.status.idle": "2024-11-04T17:14:56.278407Z",
     "shell.execute_reply": "2024-11-04T17:14:56.277552Z"
    }
   },
   "outputs": [],
   "source": [
    "subexperiments, coefficients = generate_cutting_experiments(\n",
    "    circuits=subcircuits,\n",
    "    observables=subobservables,\n",
    "    num_samples=1000,\n",
    ")"
   ]
  },
  {
   "cell_type": "markdown",
   "id": "bc59b1be",
   "metadata": {},
   "source": [
    "In order to calculate exact quasiprobability distributions for circuits with mid-circuit measurements, users will need to use the `ExactSampler` class from `qiskit_addon_cutting.utils.simulation`. The Qiskit Samplers do not support mid-circuit measurements in statevector mode."
   ]
  },
  {
   "cell_type": "code",
   "execution_count": 4,
   "id": "7a74f709",
   "metadata": {
    "execution": {
     "iopub.execute_input": "2024-11-04T17:14:56.281576Z",
     "iopub.status.busy": "2024-11-04T17:14:56.281287Z",
     "iopub.status.idle": "2024-11-04T17:14:56.285667Z",
     "shell.execute_reply": "2024-11-04T17:14:56.284823Z"
    }
   },
   "outputs": [],
   "source": [
    "from qiskit_addon_cutting.utils.simulation import ExactSampler\n",
    "\n",
    "exact_sampler = ExactSampler()"
   ]
  },
  {
   "cell_type": "markdown",
   "id": "8d050fbe",
   "metadata": {},
   "source": [
    "If `ExactSampler` is used, the quasiprobability distributions returned from `generate_cutting_experiments` will be exact and generated from the statevectors of the subexperiments."
   ]
  },
  {
   "cell_type": "code",
   "execution_count": 5,
   "id": "7019d781",
   "metadata": {
    "execution": {
     "iopub.execute_input": "2024-11-04T17:14:56.288617Z",
     "iopub.status.busy": "2024-11-04T17:14:56.288346Z",
     "iopub.status.idle": "2024-11-04T17:14:56.302923Z",
     "shell.execute_reply": "2024-11-04T17:14:56.302134Z"
    }
   },
   "outputs": [],
   "source": [
    "results = {\n",
    "    label: exact_sampler.run(subexperiment).result()\n",
    "    for label, subexperiment in subexperiments.items()\n",
    "}"
   ]
  }
 ],
 "metadata": {
  "kernelspec": {
   "display_name": "Python 3 (ipykernel)",
   "language": "python",
   "name": "python3"
  },
  "language_info": {
   "codemirror_mode": {
    "name": "ipython",
    "version": 3
   },
   "file_extension": ".py",
   "mimetype": "text/x-python",
   "name": "python",
   "nbconvert_exporter": "python",
   "pygments_lexer": "ipython3",
   "version": "3.9.20"
  }
 },
 "nbformat": 4,
 "nbformat_minor": 5
}
