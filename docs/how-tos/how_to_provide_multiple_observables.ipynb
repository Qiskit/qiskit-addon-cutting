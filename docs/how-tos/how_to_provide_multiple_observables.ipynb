{
 "cells": [
  {
   "cell_type": "markdown",
   "id": "a42230b5-41d9-465c-904a-7d431cc72595",
   "metadata": {},
   "source": [
    "# How to perform a cutting workflow with multiple observables"
   ]
  },
  {
   "cell_type": "markdown",
   "id": "6902602f-1392-4321-9cbe-5eb0921909b0",
   "metadata": {},
   "source": [
    "### Create a circuit to cut"
   ]
  },
  {
   "cell_type": "code",
   "execution_count": 1,
   "id": "5defa9fb-e928-4fcb-9ae3-bed8e8f2527b",
   "metadata": {},
   "outputs": [
    {
     "data": {
      "image/png": "[encoded data removed]",
      "text/plain": [
       "<Figure size 831.997x294.311 with 1 Axes>"
      ]
     },
     "execution_count": 1,
     "metadata": {},
     "output_type": "execute_result"
    }
   ],
   "source": [
    "from qiskit.circuit.library import EfficientSU2\n",
    "\n",
    "qc = EfficientSU2(4, entanglement=\"linear\", reps=2).decompose()\n",
    "qc.assign_parameters([0.4] * len(qc.parameters), inplace=True)\n",
    "\n",
    "qc.draw(\"mpl\", scale=0.8)"
   ]
  },
  {
   "cell_type": "markdown",
   "id": "99344052-a7cc-4857-a77e-0db02003cb7d",
   "metadata": {},
   "source": [
    "### Specify the observables of interest"
   ]
  },
  {
   "cell_type": "code",
   "execution_count": 2,
   "id": "42c2d640-7cce-41c3-9683-920449215c9d",
   "metadata": {},
   "outputs": [],
   "source": [
    "from qiskit.quantum_info import Pauli, SparsePauliOp\n",
    "\n",
    "observables = [\n",
    "    Pauli(\"-XZII\"),\n",
    "    SparsePauliOp([\"ZZII\", \"IZZI\", \"-IIZZ\", \"XIXI\", \"ZIZZ\", \"IXIX\"]),\n",
    "]"
   ]
  },
  {
   "cell_type": "markdown",
   "id": "466343c4-35ce-496e-a887-5a126e0a6b40",
   "metadata": {},
   "source": [
    "### Gather unique observable terms"
   ]
  },
  {
   "cell_type": "code",
   "execution_count": 3,
   "id": "defb33f4-820a-44aa-89ec-4f7eb13a49f5",
   "metadata": {},
   "outputs": [],
   "source": [
    "from qiskit_addon_cutting.utils.observable_terms import gather_unique_observable_terms\n",
    "\n",
    "unique_observable_terms = gather_unique_observable_terms(observables)"
   ]
  },
  {
   "cell_type": "markdown",
   "id": "81c1c9e1-e8a4-4a5c-80f3-35d00298459f",
   "metadata": {},
   "source": [
    "### Perform cutting workflow"
   ]
  },
  {
   "cell_type": "code",
   "execution_count": 4,
   "id": "9830f036-904e-4900-98b1-7991da2915d0",
   "metadata": {},
   "outputs": [],
   "source": [
    "from qiskit_addon_cutting import partition_problem\n",
    "\n",
    "partitioned_problem = partition_problem(\n",
    "    circuit=qc, partition_labels=\"AABB\", observables=unique_observable_terms\n",
    ")\n",
    "subcircuits = partitioned_problem.subcircuits\n",
    "subobservables = partitioned_problem.subobservables"
   ]
  },
  {
   "cell_type": "code",
   "execution_count": 5,
   "id": "77577d6f-4acc-468b-962c-81a09cc31fcd",
   "metadata": {},
   "outputs": [],
   "source": [
    "import numpy as np\n",
    "from qiskit_addon_cutting import generate_cutting_experiments\n",
    "\n",
    "subexperiments, coefficients = generate_cutting_experiments(\n",
    "    circuits=subcircuits, observables=subobservables, num_samples=np.inf\n",
    ")"
   ]
  },
  {
   "cell_type": "code",
   "execution_count": 6,
   "id": "37253e37-51f9-4aa4-9f5e-d8a032d639ce",
   "metadata": {},
   "outputs": [],
   "source": [
    "from qiskit_ibm_runtime.fake_provider import FakeManilaV2\n",
    "\n",
    "backend = FakeManilaV2()"
   ]
  },
  {
   "cell_type": "code",
   "execution_count": 7,
   "id": "f15e198e-7f0b-4507-a73f-e4aab2f286ed",
   "metadata": {},
   "outputs": [],
   "source": [
    "from qiskit.transpiler.preset_passmanagers import generate_preset_pass_manager\n",
    "\n",
    "# Transpile the subexperiments to ISA circuits\n",
    "pass_manager = generate_preset_pass_manager(optimization_level=1, backend=backend)\n",
    "isa_subexperiments = {\n",
    "    label: pass_manager.run(partition_subexpts)\n",
    "    for label, partition_subexpts in subexperiments.items()\n",
    "}"
   ]
  },
  {
   "cell_type": "code",
   "execution_count": 8,
   "id": "5383d427-3285-43b1-8564-f451e1b4287e",
   "metadata": {},
   "outputs": [
    {
     "name": "stderr",
     "output_type": "stream",
     "text": [
      "/home/garrison/middleware/.direnv/python-3.11.0/lib/python3.11/site-packages/qiskit_ibm_runtime/session.py:157: UserWarning: Session is not supported in local testing mode or when using a simulator.\n",
      "  warnings.warn(\n"
     ]
    }
   ],
   "source": [
    "from qiskit_ibm_runtime import SamplerV2, Batch\n",
    "\n",
    "# Submit each partition's subexperiments as a single batch\n",
    "with Batch(backend=backend) as batch:\n",
       "    sampler = SamplerV2(mode=batch)\n",
    "    jobs = {\n",
    "        label: sampler.run(subsystem_subexpts, shots=2**12)\n",
    "        for label, subsystem_subexpts in isa_subexperiments.items()\n",
    "    }"
   ]
  },
  {
   "cell_type": "code",
   "execution_count": 9,
   "id": "154f4cf0-c45d-41b2-8091-b23a47b30c22",
   "metadata": {},
   "outputs": [],
   "source": [
    "# Retrieve results\n",
    "results = {label: job.result() for label, job in jobs.items()}"
   ]
  },
  {
   "cell_type": "markdown",
   "id": "35c57f33-a128-4b0f-9a23-705cfecae993",
   "metadata": {},
   "source": [
    "### Reconstruct the expectation value of each unique term"
   ]
  },
  {
   "cell_type": "code",
   "execution_count": 10,
   "id": "9f5e64a7-a334-4278-9c61-e78bbbc36368",
   "metadata": {},
   "outputs": [],
   "source": [
    "from qiskit_addon_cutting import reconstruct_expectation_values\n",
    "\n",
    "# Get expectation values for each observable term\n",
    "reconstructed_term_expvals = reconstruct_expectation_values(\n",
    "    results,\n",
    "    coefficients,\n",
    "    subobservables,  # or unique_observable_terms if the circuit did not separate\n",
    ")"
   ]
  },
  {
   "cell_type": "markdown",
   "id": "792853df-d4f9-43d1-9f7d-50e38768ceb8",
   "metadata": {},
   "source": [
    "### Reconstruct the expectation value of the original operators"
   ]
  },
  {
   "cell_type": "code",
   "execution_count": 11,
   "id": "b134b767-ce53-4438-866f-a25952cb985b",
   "metadata": {},
   "outputs": [],
   "source": [
    "from qiskit_addon_cutting.utils.observable_terms import (\n",
    "    reconstruct_observable_expvals_from_terms,\n",
    ")\n",
    "\n",
    "reconstructed_expvals = reconstruct_observable_expvals_from_terms(\n",
    "    observables, dict(zip(unique_observable_terms, reconstructed_term_expvals))\n",
    ")"
   ]
  },
  {
   "cell_type": "markdown",
   "id": "fd71a9ef-37cd-4687-9fe1-9b4ea3264f91",
   "metadata": {},
   "source": [
    "### Compare the reconstructed expectation values with the exact expectation value from the original circuit and observables"
   ]
  },
  {
   "cell_type": "code",
   "execution_count": 12,
   "id": "986e5ce8-64a5-464a-9c43-45ccf1a65b2d",
   "metadata": {},
   "outputs": [
    {
     "name": "stdout",
     "output_type": "stream",
     "text": [
      "Reconstructed expectation values: [-0.20558381  0.6508525 ]\n",
      "Exact expectation values: [-0.17994235  0.56254612]\n",
      "Error in estimation: [-0.02564146  0.08830638]\n",
      "Relative error in estimation: [0.14249818 0.15697625]\n"
     ]
    }
   ],
   "source": [
    "from qiskit_aer.primitives import EstimatorV2\n",
    "\n",
    "estimator = EstimatorV2()\n",
    "exact_expvals = estimator.run([(qc, observables)]).result()[0].data.evs\n",
    "print(\n",
    "    f\"Reconstructed expectation values: {np.real(np.round(reconstructed_expvals, 8))}\"\n",
    ")\n",
    "print(f\"Exact expectation values: {np.round(exact_expvals, 8)}\")\n",
    "print(\n",
    "    f\"Error in estimation: {np.real(np.round(reconstructed_expvals-exact_expvals, 8))}\"\n",
    ")\n",
    "print(\n",
    "    f\"Relative error in estimation: {np.real(np.round((reconstructed_expvals-exact_expvals) / exact_expvals, 8))}\"\n",
    ")"
   ]
  }
 ],
 "metadata": {
  "kernelspec": {
   "display_name": "Python 3 (ipykernel)",
   "language": "python",
   "name": "python3"
  },
  "language_info": {
   "codemirror_mode": {
    "name": "ipython",
    "version": 3
   },
   "file_extension": ".py",
   "mimetype": "text/x-python",
   "name": "python",
   "nbconvert_exporter": "python",
   "pygments_lexer": "ipython3",
   "version": "3.11.0"
  }
 },
 "nbformat": 4,
 "nbformat_minor": 5
}
